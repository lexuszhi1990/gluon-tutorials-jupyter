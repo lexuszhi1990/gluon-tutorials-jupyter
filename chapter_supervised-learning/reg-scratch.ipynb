{
 "cells": [
  {
   "cell_type": "code",
   "execution_count": 1,
   "metadata": {},
   "outputs": [],
   "source": [
    "from mxnet import ndarray as nd\n",
    "from mxnet import autograd\n",
    "from mxnet import gluon\n",
    "import mxnet as mx\n",
    "\n",
    "num_train = 20\n",
    "num_test = 100\n",
    "num_inputs = 200"
   ]
  },
  {
   "cell_type": "code",
   "execution_count": 12,
   "metadata": {},
   "outputs": [
    {
     "data": {
      "text/plain": [
       "((200, 1), 0.05)"
      ]
     },
     "execution_count": 12,
     "metadata": {},
     "output_type": "execute_result"
    }
   ],
   "source": [
    "true_w = nd.ones((num_inputs, 1)) * 0.01\n",
    "true_b = 0.05\n",
    "(true_w.shape, true_b)"
   ]
  },
  {
   "cell_type": "code",
   "execution_count": 3,
   "metadata": {},
   "outputs": [],
   "source": [
    "X = nd.random.normal(shape=(num_train + num_test, num_inputs))\n",
    "y = nd.dot(X, true_w) + true_b\n",
    "y += .01 * nd.random.normal(shape=y.shape) # normalization\n",
    "\n",
    "X_train, X_test = X[:num_train, :], X[num_train:, :]\n",
    "y_train, y_test = y[:num_train], y[num_train:]"
   ]
  },
  {
   "cell_type": "code",
   "execution_count": 7,
   "metadata": {},
   "outputs": [
    {
     "data": {
      "text/plain": [
       "(\n",
       " [ 0.23107235  0.30030754 -0.32433933  1.04932892  0.73686236 -0.0097888\n",
       "   0.46656415  1.72023427  0.87809837 -1.07333767 -0.8692565  -0.26717702\n",
       "  -0.51548833 -1.16747034  0.83952832  0.51638645 -1.26336765 -0.40413618\n",
       "   1.09088254  0.23103935 -0.9257158  -0.31591919  0.95743537 -0.38919321\n",
       "  -1.34808254 -0.67003465  1.19365716  1.54496992  0.14451179 -1.8477385\n",
       "   0.45165458 -0.79649425  0.54254794 -0.1981228  -1.43436348 -1.32349682\n",
       "  -1.28775203  0.22667837 -0.34295559 -0.24174212  1.62806737 -0.47678864\n",
       "  -0.17538601  2.40499735  0.47317964 -0.40808728 -0.62635905 -0.251892\n",
       "   0.61684221 -0.6043455  -1.33544648 -0.3634004  -0.95631856 -2.06976867\n",
       "   0.26735559 -0.63738728  0.6735397  -1.69787312  0.64833927  0.05638171\n",
       "   0.79057908 -0.8910743  -0.42496982 -0.4711332  -1.38438404  0.18498535\n",
       "   0.06093272  0.28702712 -0.82222307  1.16436076 -0.45553163  1.59251416\n",
       "   0.51759648  0.74979568 -0.66192865  1.21521401 -1.91471267 -0.56540263\n",
       "   0.35656828  0.51618046 -1.96875072 -0.16565874 -0.27489671 -0.11766309\n",
       "   1.23735213  1.10606658 -0.04158062  0.36917594 -0.83403975 -1.35011196\n",
       "   0.66297758  0.09338421 -0.72569466  0.24597257  0.75631332  0.76846319\n",
       "  -0.2291214   0.77861482  0.17004468 -1.36089516  1.32506275 -1.76803553\n",
       "   0.06497119 -1.57148063  1.60998738 -1.20053232 -2.11333585 -1.02810025\n",
       "   0.40055504  0.77964574 -0.68729514  1.21287358 -0.55972326 -0.62321848\n",
       "  -1.35161626 -1.89455438  0.4474501  -0.65499711 -0.15562907  2.05495811\n",
       "   1.38261044 -0.33854252  1.56572282 -0.40005934  0.99249786  1.43674195\n",
       "   0.60623193  1.22723854 -0.628672    0.31378368 -0.58512902 -0.27635783\n",
       "   0.6462698  -1.04215848  0.28274712  0.72728401 -0.9804312  -0.20879816\n",
       "   1.05270123  0.39465845 -0.52709585 -0.08139908  0.12135386  0.01578129\n",
       "  -0.65682143 -0.07879972 -1.92077792 -0.36698663  1.68596756 -1.71973562\n",
       "   0.09803946 -0.6984089  -0.69413805 -0.40179291 -0.89343023 -0.10936168\n",
       "  -0.31441072  0.11665254 -0.64691925  2.14899468 -0.27965298  0.5230751\n",
       "  -0.90884006  0.12286627 -1.7043736  -0.07533424 -0.28417772  0.23348512\n",
       "   1.39627349 -0.07234604  1.59793377 -0.0243843  -0.40127024 -0.86884683\n",
       "  -0.66643226 -1.2532537  -1.87142718 -1.87496018  1.10806119 -2.80386925\n",
       "  -0.13549392 -1.49542165  0.06815132  0.9113276  -0.80409235  0.3229059\n",
       "  -0.35737646 -0.78330356 -1.61753237  0.19708104 -0.0749913   0.68622959\n",
       "   0.15619713 -0.14186013 -0.0737954   0.27399552  0.0945732   0.00751838\n",
       "   1.98213053  0.71991622]\n",
       " <NDArray 200 @cpu(0)>, \n",
       " [ 0.10322366]\n",
       " <NDArray 1 @cpu(0)>)"
      ]
     },
     "execution_count": 7,
     "metadata": {},
     "output_type": "execute_result"
    }
   ],
   "source": [
    "(X_train[0], y_test[0])"
   ]
  },
  {
   "cell_type": "code",
   "execution_count": 13,
   "metadata": {},
   "outputs": [],
   "source": [
    "import random\n",
    "batch_size = 1\n",
    "def data_iter(num_examples):\n",
    "    idx = list(range(num_examples))\n",
    "    random.shuffle(idx)\n",
    "    for i in range(0, num_examples, batch_size):\n",
    "        j = nd.array(idx[i:min(i+batch_size,num_examples)])\n",
    "        yield X.take(j), y.take(j)"
   ]
  },
  {
   "cell_type": "code",
   "execution_count": 14,
   "metadata": {},
   "outputs": [],
   "source": [
    "def init_params():\n",
    "    w = nd.random_normal(scale=1, shape=(num_inputs, 1))\n",
    "    b = nd.zeros(shape=(1,))\n",
    "    params = [w, b]\n",
    "    for param in params:\n",
    "        param.attach_grad()\n",
    "    return params"
   ]
  },
  {
   "cell_type": "code",
   "execution_count": 15,
   "metadata": {},
   "outputs": [],
   "source": [
    "def L2_penalty(w, b):\n",
    "    return ((w**2).sum() + b**2) / 2"
   ]
  },
  {
   "cell_type": "code",
   "execution_count": 17,
   "metadata": {},
   "outputs": [],
   "source": [
    "%matplotlib inline\n",
    "import matplotlib as mpl\n",
    "mpl.rcParams['figure.dpi']= 120\n",
    "import matplotlib.pyplot as plt\n",
    "import numpy as np\n",
    "\n",
    "def net(X, w, b):\n",
    "    return nd.dot(X, w) + b\n",
    "\n",
    "def square_loss(yhat, y):\n",
    "    return (yhat - y.reshape(yhat.shape)) ** 2 / 2\n",
    "\n",
    "def sgd(params, lr, batch_size):\n",
    "    for param in params:\n",
    "        param[:] = param - lr * param.grad / batch_size\n",
    "\n",
    "def test(net, params, X, y):\n",
    "    return square_loss(net(X, *params), y).mean().asscalar()\n",
    "    #return np.mean(square_loss(net(X, *params), y).asnumpy())\n",
    "\n",
    "def train(lambd):\n",
    "    epochs = 10\n",
    "    learning_rate = 0.005\n",
    "    w, b = params = init_params()\n",
    "    train_loss = []\n",
    "    test_loss = []\n",
    "    for e in range(epochs):\n",
    "        for data, label in data_iter(num_train):\n",
    "            with autograd.record():\n",
    "                output = net(data, *params)\n",
    "                loss = square_loss(\n",
    "                    output, label) + lambd * L2_penalty(*params)\n",
    "            loss.backward()\n",
    "            sgd(params, learning_rate, batch_size)\n",
    "        train_loss.append(test(net, params, X_train, y_train))\n",
    "        test_loss.append(test(net, params, X_test, y_test))\n",
    "    plt.plot(train_loss)\n",
    "    plt.plot(test_loss)\n",
    "    plt.legend(['train', 'test'])\n",
    "    plt.show()\n",
    "    return 'learned w[:10]:', w[:10].T, 'learned b:', b"
   ]
  },
  {
   "cell_type": "code",
   "execution_count": 18,
   "metadata": {},
   "outputs": [
    {
     "data": {
      "image/png": "[encoded data removed]",
      "text/plain": [
       "<matplotlib.figure.Figure at 0x11fd772e8>"
      ]
     },
     "metadata": {},
     "output_type": "display_data"
    },
    {
     "data": {
      "text/plain": [
       "('learned w[:10]:', \n",
       " [[ 0.66353375  0.41483393  0.13900803  0.70560098  0.95132917  0.60463196\n",
       "   -1.50918972 -0.28548881  0.50638008 -0.93981451]]\n",
       " <NDArray 1x10 @cpu(0)>, 'learned b:', \n",
       " [-0.31029159]\n",
       " <NDArray 1 @cpu(0)>)"
      ]
     },
     "execution_count": 18,
     "metadata": {},
     "output_type": "execute_result"
    }
   ],
   "source": [
    "train(0)"
   ]
  },
  {
   "cell_type": "code",
   "execution_count": 19,
   "metadata": {},
   "outputs": [
    {
     "data": {
      "image/png": "[encoded data removed]",
      "text/plain": [
       "<matplotlib.figure.Figure at 0x121539e10>"
      ]
     },
     "metadata": {},
     "output_type": "display_data"
    },
    {
     "data": {
      "text/plain": [
       "('learned w[:10]:', \n",
       " [[ 0.02177444  0.03771204  0.09530517  0.02081438  0.07162867 -0.0140384\n",
       "   -0.01690836  0.09721318 -0.07943197  0.01379908]]\n",
       " <NDArray 1x10 @cpu(0)>, 'learned b:', \n",
       " [ 0.00411705]\n",
       " <NDArray 1 @cpu(0)>)"
      ]
     },
     "execution_count": 19,
     "metadata": {},
     "output_type": "execute_result"
    }
   ],
   "source": [
    "train(3)"
   ]
  },
  {
   "cell_type": "code",
   "execution_count": 20,
   "metadata": {},
   "outputs": [
    {
     "data": {
      "image/png": "[encoded data removed]",
      "text/plain": [
       "<matplotlib.figure.Figure at 0x11fd77d68>"
      ]
     },
     "metadata": {},
     "output_type": "display_data"
    },
    {
     "data": {
      "text/plain": [
       "('learned w[:10]:', \n",
       " [[ 0.00256831 -0.00304208  0.00180772 -0.00302035 -0.00328339 -0.0022002\n",
       "   -0.00094804  0.00229089 -0.00044898  0.00179806]]\n",
       " <NDArray 1x10 @cpu(0)>, 'learned b:', \n",
       " [ 0.00161046]\n",
       " <NDArray 1 @cpu(0)>)"
      ]
     },
     "execution_count": 20,
     "metadata": {},
     "output_type": "execute_result"
    }
   ],
   "source": [
    "train(10)"
   ]
  },
  {
   "cell_type": "code",
   "execution_count": null,
   "metadata": {},
   "outputs": [],
   "source": []
  }
 ],
 "metadata": {
  "kernelspec": {
   "display_name": "Python 3",
   "language": "python",
   "name": "python3"
  },
  "language_info": {
   "codemirror_mode": {
    "name": "ipython",
    "version": 3
   },
   "file_extension": ".py",
   "mimetype": "text/x-python",
   "name": "python",
   "nbconvert_exporter": "python",
   "pygments_lexer": "ipython3",
   "version": "3.6.3"
  }
 },
 "nbformat": 4,
 "nbformat_minor": 2
}
